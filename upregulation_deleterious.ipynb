"""FULLY DIFFERENTIATED STEM CELL FUNCTIONAL INTERACTION"""


import pandas as pd
import seaborn as sns
import matplotlib.pyplot as plt
import numpy as np
from sklearn.preprocessing import MinMaxScaler

# Load Data
file_path = "C:/Users/omkar/Documents/Fully_diff_FI.csv"
df = pd.read_csv(file_path)

# Normalize column names
df.columns = df.columns.str.strip().str.replace(" ", "_")

# Set index (ensure it's a unique identifier)
df.set_index("Pathway_Id", inplace=True)

# Convert necessary columns to numeric, ignoring errors
numeric_cols = ["Gene_Number", "pValue", "FDR", "Functional_Interaction"]
df[numeric_cols] = df[numeric_cols].apply(pd.to_numeric, errors="coerce")

# 🔹 Log-transform p-values to improve scaling
df["pValue"] = -np.log10(df["pValue"])

# 🔹 Filter Top 20 Pathways by smallest pValue
df = df.nsmallest(20, "pValue")

# 🔹 Normalize Only Numeric Columns
scaler = MinMaxScaler()
df_scaled = pd.DataFrame(scaler.fit_transform(df[numeric_cols]), index=df.index, columns=numeric_cols)

# Plot Heatmap
plt.figure(figsize=(12, 8))
sns.heatmap(df_scaled, cmap="coolwarm", annot=True, fmt=".2f", linewidths=0.5)

plt.title("Top 20 Pathways - Gene Number, pValue, FDR, and Functional Interaction", fontsize=14)
plt.xlabel("Metrics", fontsize=12)
plt.ylabel("Pathway Id", fontsize=12)
plt.xticks(rotation=45, ha="right")
plt.yticks(fontsize=10)

plt.show()
